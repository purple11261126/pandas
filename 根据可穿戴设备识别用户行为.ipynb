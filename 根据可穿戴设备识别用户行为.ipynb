{
 "cells": [
  {
   "cell_type": "code",
   "execution_count": 10,
   "metadata": {},
   "outputs": [],
   "source": [
    "import numpy as np\n",
    "import pandas as pd\n",
    "import time\n",
    "import matplotlib.pyplot as plt\n",
    "import seaborn as sns\n",
    "\n",
    "%matplotlib notebook"
   ]
  },
  {
   "cell_type": "code",
   "execution_count": 2,
   "metadata": {},
   "outputs": [],
   "source": [
    "# 解决matplotlib显示中文问题\n",
    "# 仅适用于Windows\n",
    "plt.rcParams['font.sans-serif'] = ['SimHei']  # 指定默认字体\n",
    "plt.rcParams['axes.unicode_minus'] = False  # 解决保存图像是负号'-'显示为方块的问题"
   ]
  },
  {
   "cell_type": "code",
   "execution_count": 3,
   "metadata": {},
   "outputs": [
    {
     "data": {
      "text/html": [
       "<div>\n",
       "<style scoped>\n",
       "    .dataframe tbody tr th:only-of-type {\n",
       "        vertical-align: middle;\n",
       "    }\n",
       "\n",
       "    .dataframe tbody tr th {\n",
       "        vertical-align: top;\n",
       "    }\n",
       "\n",
       "    .dataframe thead th {\n",
       "        text-align: right;\n",
       "    }\n",
       "</style>\n",
       "<table border=\"1\" class=\"dataframe\">\n",
       "  <thead>\n",
       "    <tr style=\"text-align: right;\">\n",
       "      <th></th>\n",
       "      <th>tBodyAcc-mean()-X</th>\n",
       "      <th>tBodyAcc-mean()-Y</th>\n",
       "      <th>tBodyAcc-mean()-Z</th>\n",
       "      <th>tBodyAcc-std()-X</th>\n",
       "      <th>tBodyAcc-std()-Y</th>\n",
       "      <th>tBodyAcc-std()-Z</th>\n",
       "      <th>tBodyAcc-mad()-X</th>\n",
       "      <th>tBodyAcc-mad()-Y</th>\n",
       "      <th>tBodyAcc-mad()-Z</th>\n",
       "      <th>tBodyAcc-max()-X</th>\n",
       "      <th>...</th>\n",
       "      <th>fBodyBodyGyroJerkMag-kurtosis()</th>\n",
       "      <th>angle(tBodyAccMean,gravity)</th>\n",
       "      <th>angle(tBodyAccJerkMean),gravityMean)</th>\n",
       "      <th>angle(tBodyGyroMean,gravityMean)</th>\n",
       "      <th>angle(tBodyGyroJerkMean,gravityMean)</th>\n",
       "      <th>angle(X,gravityMean)</th>\n",
       "      <th>angle(Y,gravityMean)</th>\n",
       "      <th>angle(Z,gravityMean)</th>\n",
       "      <th>subject</th>\n",
       "      <th>Activity</th>\n",
       "    </tr>\n",
       "  </thead>\n",
       "  <tbody>\n",
       "    <tr>\n",
       "      <th>0</th>\n",
       "      <td>0.288585</td>\n",
       "      <td>-0.020294</td>\n",
       "      <td>-0.132905</td>\n",
       "      <td>-0.995279</td>\n",
       "      <td>-0.983111</td>\n",
       "      <td>-0.913526</td>\n",
       "      <td>-0.995112</td>\n",
       "      <td>-0.983185</td>\n",
       "      <td>-0.923527</td>\n",
       "      <td>-0.934724</td>\n",
       "      <td>...</td>\n",
       "      <td>-0.710304</td>\n",
       "      <td>-0.112754</td>\n",
       "      <td>0.030400</td>\n",
       "      <td>-0.464761</td>\n",
       "      <td>-0.018446</td>\n",
       "      <td>-0.841247</td>\n",
       "      <td>0.179941</td>\n",
       "      <td>-0.058627</td>\n",
       "      <td>1</td>\n",
       "      <td>STANDING</td>\n",
       "    </tr>\n",
       "    <tr>\n",
       "      <th>1</th>\n",
       "      <td>0.278419</td>\n",
       "      <td>-0.016411</td>\n",
       "      <td>-0.123520</td>\n",
       "      <td>-0.998245</td>\n",
       "      <td>-0.975300</td>\n",
       "      <td>-0.960322</td>\n",
       "      <td>-0.998807</td>\n",
       "      <td>-0.974914</td>\n",
       "      <td>-0.957686</td>\n",
       "      <td>-0.943068</td>\n",
       "      <td>...</td>\n",
       "      <td>-0.861499</td>\n",
       "      <td>0.053477</td>\n",
       "      <td>-0.007435</td>\n",
       "      <td>-0.732626</td>\n",
       "      <td>0.703511</td>\n",
       "      <td>-0.844788</td>\n",
       "      <td>0.180289</td>\n",
       "      <td>-0.054317</td>\n",
       "      <td>1</td>\n",
       "      <td>STANDING</td>\n",
       "    </tr>\n",
       "    <tr>\n",
       "      <th>2</th>\n",
       "      <td>0.279653</td>\n",
       "      <td>-0.019467</td>\n",
       "      <td>-0.113462</td>\n",
       "      <td>-0.995380</td>\n",
       "      <td>-0.967187</td>\n",
       "      <td>-0.978944</td>\n",
       "      <td>-0.996520</td>\n",
       "      <td>-0.963668</td>\n",
       "      <td>-0.977469</td>\n",
       "      <td>-0.938692</td>\n",
       "      <td>...</td>\n",
       "      <td>-0.760104</td>\n",
       "      <td>-0.118559</td>\n",
       "      <td>0.177899</td>\n",
       "      <td>0.100699</td>\n",
       "      <td>0.808529</td>\n",
       "      <td>-0.848933</td>\n",
       "      <td>0.180637</td>\n",
       "      <td>-0.049118</td>\n",
       "      <td>1</td>\n",
       "      <td>STANDING</td>\n",
       "    </tr>\n",
       "    <tr>\n",
       "      <th>3</th>\n",
       "      <td>0.279174</td>\n",
       "      <td>-0.026201</td>\n",
       "      <td>-0.123283</td>\n",
       "      <td>-0.996091</td>\n",
       "      <td>-0.983403</td>\n",
       "      <td>-0.990675</td>\n",
       "      <td>-0.997099</td>\n",
       "      <td>-0.982750</td>\n",
       "      <td>-0.989302</td>\n",
       "      <td>-0.938692</td>\n",
       "      <td>...</td>\n",
       "      <td>-0.482845</td>\n",
       "      <td>-0.036788</td>\n",
       "      <td>-0.012892</td>\n",
       "      <td>0.640011</td>\n",
       "      <td>-0.485366</td>\n",
       "      <td>-0.848649</td>\n",
       "      <td>0.181935</td>\n",
       "      <td>-0.047663</td>\n",
       "      <td>1</td>\n",
       "      <td>STANDING</td>\n",
       "    </tr>\n",
       "    <tr>\n",
       "      <th>4</th>\n",
       "      <td>0.276629</td>\n",
       "      <td>-0.016570</td>\n",
       "      <td>-0.115362</td>\n",
       "      <td>-0.998139</td>\n",
       "      <td>-0.980817</td>\n",
       "      <td>-0.990482</td>\n",
       "      <td>-0.998321</td>\n",
       "      <td>-0.979672</td>\n",
       "      <td>-0.990441</td>\n",
       "      <td>-0.942469</td>\n",
       "      <td>...</td>\n",
       "      <td>-0.699205</td>\n",
       "      <td>0.123320</td>\n",
       "      <td>0.122542</td>\n",
       "      <td>0.693578</td>\n",
       "      <td>-0.615971</td>\n",
       "      <td>-0.847865</td>\n",
       "      <td>0.185151</td>\n",
       "      <td>-0.043892</td>\n",
       "      <td>1</td>\n",
       "      <td>STANDING</td>\n",
       "    </tr>\n",
       "  </tbody>\n",
       "</table>\n",
       "<p>5 rows × 563 columns</p>\n",
       "</div>"
      ],
      "text/plain": [
       "   tBodyAcc-mean()-X  tBodyAcc-mean()-Y  tBodyAcc-mean()-Z  tBodyAcc-std()-X  \\\n",
       "0           0.288585          -0.020294          -0.132905         -0.995279   \n",
       "1           0.278419          -0.016411          -0.123520         -0.998245   \n",
       "2           0.279653          -0.019467          -0.113462         -0.995380   \n",
       "3           0.279174          -0.026201          -0.123283         -0.996091   \n",
       "4           0.276629          -0.016570          -0.115362         -0.998139   \n",
       "\n",
       "   tBodyAcc-std()-Y  tBodyAcc-std()-Z  tBodyAcc-mad()-X  tBodyAcc-mad()-Y  \\\n",
       "0         -0.983111         -0.913526         -0.995112         -0.983185   \n",
       "1         -0.975300         -0.960322         -0.998807         -0.974914   \n",
       "2         -0.967187         -0.978944         -0.996520         -0.963668   \n",
       "3         -0.983403         -0.990675         -0.997099         -0.982750   \n",
       "4         -0.980817         -0.990482         -0.998321         -0.979672   \n",
       "\n",
       "   tBodyAcc-mad()-Z  tBodyAcc-max()-X    ...     \\\n",
       "0         -0.923527         -0.934724    ...      \n",
       "1         -0.957686         -0.943068    ...      \n",
       "2         -0.977469         -0.938692    ...      \n",
       "3         -0.989302         -0.938692    ...      \n",
       "4         -0.990441         -0.942469    ...      \n",
       "\n",
       "   fBodyBodyGyroJerkMag-kurtosis()  angle(tBodyAccMean,gravity)  \\\n",
       "0                        -0.710304                    -0.112754   \n",
       "1                        -0.861499                     0.053477   \n",
       "2                        -0.760104                    -0.118559   \n",
       "3                        -0.482845                    -0.036788   \n",
       "4                        -0.699205                     0.123320   \n",
       "\n",
       "   angle(tBodyAccJerkMean),gravityMean)  angle(tBodyGyroMean,gravityMean)  \\\n",
       "0                              0.030400                         -0.464761   \n",
       "1                             -0.007435                         -0.732626   \n",
       "2                              0.177899                          0.100699   \n",
       "3                             -0.012892                          0.640011   \n",
       "4                              0.122542                          0.693578   \n",
       "\n",
       "   angle(tBodyGyroJerkMean,gravityMean)  angle(X,gravityMean)  \\\n",
       "0                             -0.018446             -0.841247   \n",
       "1                              0.703511             -0.844788   \n",
       "2                              0.808529             -0.848933   \n",
       "3                             -0.485366             -0.848649   \n",
       "4                             -0.615971             -0.847865   \n",
       "\n",
       "   angle(Y,gravityMean)  angle(Z,gravityMean)  subject  Activity  \n",
       "0              0.179941             -0.058627        1  STANDING  \n",
       "1              0.180289             -0.054317        1  STANDING  \n",
       "2              0.180637             -0.049118        1  STANDING  \n",
       "3              0.181935             -0.047663        1  STANDING  \n",
       "4              0.185151             -0.043892        1  STANDING  \n",
       "\n",
       "[5 rows x 563 columns]"
      ]
     },
     "execution_count": 3,
     "metadata": {},
     "output_type": "execute_result"
    }
   ],
   "source": [
    "# 加载数据\n",
    "train_file = '../data/train.csv'\n",
    "test_file = '../data/test.csv'\n",
    "\n",
    "train_data = pd.read_csv(train_file)\n",
    "test_data = pd.read_csv(test_file)\n",
    "\n",
    "train_data.head()"
   ]
  },
  {
   "cell_type": "markdown",
   "metadata": {},
   "source": [
    "### 查看数据"
   ]
  },
  {
   "cell_type": "code",
   "execution_count": 4,
   "metadata": {},
   "outputs": [
    {
     "name": "stdout",
     "output_type": "stream",
     "text": [
      "<class 'pandas.core.frame.DataFrame'>\n",
      "RangeIndex: 7352 entries, 0 to 7351\n",
      "Columns: 563 entries, tBodyAcc-mean()-X to Activity\n",
      "dtypes: float64(561), int64(1), object(1)\n",
      "memory usage: 31.6+ MB\n"
     ]
    }
   ],
   "source": [
    "train_data.info()"
   ]
  },
  {
   "cell_type": "code",
   "execution_count": 5,
   "metadata": {},
   "outputs": [
    {
     "data": {
      "text/plain": [
       "Index(['tBodyAcc-mean()-X', 'tBodyAcc-mean()-Y', 'tBodyAcc-mean()-Z',\n",
       "       'tBodyAcc-std()-X', 'tBodyAcc-std()-Y', 'tBodyAcc-std()-Z',\n",
       "       'tBodyAcc-mad()-X', 'tBodyAcc-mad()-Y', 'tBodyAcc-mad()-Z',\n",
       "       'tBodyAcc-max()-X',\n",
       "       ...\n",
       "       'fBodyBodyGyroJerkMag-kurtosis()', 'angle(tBodyAccMean,gravity)',\n",
       "       'angle(tBodyAccJerkMean),gravityMean)',\n",
       "       'angle(tBodyGyroMean,gravityMean)',\n",
       "       'angle(tBodyGyroJerkMean,gravityMean)', 'angle(X,gravityMean)',\n",
       "       'angle(Y,gravityMean)', 'angle(Z,gravityMean)', 'subject', 'Activity'],\n",
       "      dtype='object', length=563)"
      ]
     },
     "execution_count": 5,
     "metadata": {},
     "output_type": "execute_result"
    }
   ],
   "source": [
    "train_data.columns"
   ]
  },
  {
   "cell_type": "code",
   "execution_count": 6,
   "metadata": {},
   "outputs": [
    {
     "name": "stdout",
     "output_type": "stream",
     "text": [
      "训练数据 7352 条\n",
      "测试数据 2947 条\n"
     ]
    }
   ],
   "source": [
    "print('训练数据 {} 条'.format(len(train_data)))\n",
    "print('测试数据 {} 条'.format(len(test_data)))"
   ]
  },
  {
   "cell_type": "code",
   "execution_count": 7,
   "metadata": {},
   "outputs": [
    {
     "data": {
      "image/png": "[encoded data removed]",
      "text/plain": [
       "<matplotlib.figure.Figure at 0x1a4218bdc18>"
      ]
     },
     "metadata": {},
     "output_type": "display_data"
    }
   ],
   "source": [
    "# 可视化各类别数量统计图\n",
    "plt.figure(figsize=(10, 5))\n",
    "\n",
    "# 训练集\n",
    "ax1 = plt.subplot(1, 2, 1)\n",
    "sns.countplot(x='Activity', data=train_data)\n",
    "plt.title('训练集')\n",
    "plt.xlabel('行为类别')\n",
    "plt.ylabel('数量')\n",
    "plt.xticks(rotation='45')\n",
    "# plt.subplots_adjust(bottom=0.25)  # 调整边界距离，显示完整图像。\n",
    "\n",
    "# 测试集\n",
    "ax2 = plt.subplot(1, 2, 2, sharey=ax1)\n",
    "sns.countplot(x='Activity', data=test_data)\n",
    "plt.title('测试集')\n",
    "plt.xlabel('行为类别')\n",
    "plt.ylabel('数量')\n",
    "plt.xticks(rotation='45')\n",
    "\n",
    "plt.tight_layout()  # 显示完整图像"
   ]
  },
  {
   "cell_type": "code",
   "execution_count": 8,
   "metadata": {},
   "outputs": [
    {
     "name": "stdout",
     "output_type": "stream",
     "text": [
      "共 561 维特征\n",
      "\n",
      "类别标签： ['LAYING' 'SITTING' 'STANDING' 'WALKING' 'WALKING_DOWNSTAIRS'\n",
      " 'WALKING_UPSTAIRS']\n",
      "\n",
      "编码 0 对应 LAYING\n",
      "编码 1 对应 SITTING\n",
      "编码 2 对应 STANDING\n",
      "编码 3 对应 WALKING\n",
      "编码 4 对应 WALKING_DOWNSTAIRS\n",
      "编码 5 对应 WALKING_UPSTAIRS\n"
     ]
    },
    {
     "name": "stderr",
     "output_type": "stream",
     "text": [
      "D:\\Anaconda3\\lib\\site-packages\\sklearn\\preprocessing\\label.py:151: DeprecationWarning: The truth value of an empty array is ambiguous. Returning False, but in future this will result in an error. Use `array.size > 0` to check that an array is not empty.\n",
      "  if diff:\n",
      "D:\\Anaconda3\\lib\\site-packages\\sklearn\\preprocessing\\label.py:151: DeprecationWarning: The truth value of an empty array is ambiguous. Returning False, but in future this will result in an error. Use `array.size > 0` to check that an array is not empty.\n",
      "  if diff:\n",
      "D:\\Anaconda3\\lib\\site-packages\\sklearn\\preprocessing\\label.py:151: DeprecationWarning: The truth value of an empty array is ambiguous. Returning False, but in future this will result in an error. Use `array.size > 0` to check that an array is not empty.\n",
      "  if diff:\n",
      "D:\\Anaconda3\\lib\\site-packages\\sklearn\\preprocessing\\label.py:151: DeprecationWarning: The truth value of an empty array is ambiguous. Returning False, but in future this will result in an error. Use `array.size > 0` to check that an array is not empty.\n",
      "  if diff:\n",
      "D:\\Anaconda3\\lib\\site-packages\\sklearn\\preprocessing\\label.py:151: DeprecationWarning: The truth value of an empty array is ambiguous. Returning False, but in future this will result in an error. Use `array.size > 0` to check that an array is not empty.\n",
      "  if diff:\n",
      "D:\\Anaconda3\\lib\\site-packages\\sklearn\\preprocessing\\label.py:151: DeprecationWarning: The truth value of an empty array is ambiguous. Returning False, but in future this will result in an error. Use `array.size > 0` to check that an array is not empty.\n",
      "  if diff:\n"
     ]
    }
   ],
   "source": [
    "# 构建训练、测试数据集\n",
    "# 特征处理\n",
    "feat_name = train_data.columns[:-2].tolist()  # 取得特征\n",
    "X_train = train_data[feat_name].values  # 根据特征取得训练数据集\n",
    "X_test = test_data[feat_name].values  # 根据特征取得测试数据集\n",
    "print('共 {} 维特征'.format(len(feat_name)))\n",
    "print()\n",
    "\n",
    "# 标签处理\n",
    "train_labels = train_data['Activity'].values\n",
    "test_labels = test_data['Activity'].values\n",
    "\n",
    "# 使用sklearn.preprocessing.LabelEncoder进行类别标签处理\n",
    "from sklearn.preprocessing import LabelEncoder\n",
    "\n",
    "label_enc = LabelEncoder()\n",
    "y_train = label_enc.fit_transform(train_labels)\n",
    "y_test = label_enc.fit_transform(test_labels)\n",
    "\n",
    "print('类别标签：', label_enc.classes_)\n",
    "print()\n",
    "\n",
    "for i in range(len(label_enc.classes_)):\n",
    "    print('编码 {} 对应 {}'.format(i, label_enc.inverse_transform(i)))"
   ]
  },
  {
   "cell_type": "markdown",
   "metadata": {},
   "source": [
    "### 数据建模和验证"
   ]
  },
  {
   "cell_type": "code",
   "execution_count": 9,
   "metadata": {},
   "outputs": [],
   "source": [
    "from sklearn.neighbors import KNeighborsClassifier  # KNN \n",
    "from sklearn.linear_model import LogisticRegression  # 线性回归\n",
    "from sklearn.svm import SVC  # SVM\n",
    "from sklearn.tree import DecisionTreeClassifier  # 决策树"
   ]
  },
  {
   "cell_type": "markdown",
   "metadata": {},
   "source": [
    "#### KNN"
   ]
  },
  {
   "cell_type": "code",
   "execution_count": 13,
   "metadata": {},
   "outputs": [
    {
     "name": "stdout",
     "output_type": "stream",
     "text": [
      "训练 kNN（k=5）...\n",
      "耗时：0.3485 s，准确率：0.900\n",
      "\n",
      "训练 kNN（k=10）...\n",
      "耗时：0.3342 s，准确率：0.907\n",
      "\n",
      "训练 kNN（k=15）...\n",
      "耗时：0.3352 s，准确率：0.905\n",
      "\n",
      "\n",
      "训练 KNN 平均耗时：0.3393 s\n",
      "最优 KNN 模型，k=10，准确率：0.907\n"
     ]
    }
   ],
   "source": [
    "k_range = [5, 10, 15]\n",
    "knn_models = []\n",
    "knn_scores = []\n",
    "knn_durations = []\n",
    "\n",
    "for k in k_range:\n",
    "    print('训练 kNN（k={}）...'.format(k))\n",
    "    # 建立模型\n",
    "    knn = KNeighborsClassifier(n_neighbors=k)\n",
    "    # 训练模型\n",
    "    start = time.time()\n",
    "    knn.fit(X_train, y_train)\n",
    "    # 计时\n",
    "    end = time.time()\n",
    "    duration = end - start\n",
    "    print('耗时：{:.4f} s'.format(duration), end='，')\n",
    "    # 验证模型\n",
    "    score = knn.score(X_test, y_test)\n",
    "    print('准确率：{:.3f}'.format(score))\n",
    "    print()\n",
    "    \n",
    "    knn_models.append(knn)\n",
    "    knn_durations.append(duration)\n",
    "    knn_scores.append(score)\n",
    "\n",
    "print()\n",
    "knn_mean_duration = np.mean(knn_durations)\n",
    "print('训练 KNN 平均耗时：{:.4f} s'.format(knn_mean_duration))\n",
    "\n",
    "# 记录最优模型\n",
    "best_idx = np.argmax(knn_scores)  # 最大值的 index\n",
    "best_knn_acc = knn_scores[best_idx]\n",
    "print('最优 KNN 模型，k={}，准确率：{:.3f}'.format(knn_models[best_idx].get_params()['n_neighbors'], best_knn_acc))"
   ]
  },
  {
   "cell_type": "markdown",
   "metadata": {},
   "source": [
    "#### 逻辑回归"
   ]
  },
  {
   "cell_type": "code",
   "execution_count": 16,
   "metadata": {},
   "outputs": [
    {
     "name": "stdout",
     "output_type": "stream",
     "text": [
      "训练 Logistic Regression（C=0.01）...耗时 3.4440 s，准确率：0.938\n",
      "\n",
      "训练 Logistic Regression（C=1）...耗时 5.9099 s，准确率：0.962\n",
      "\n",
      "训练 Logistic Regression（C=100）...耗时 10.2175 s，准确率：0.962\n",
      "\n",
      "\n",
      "训练 Logistic Regression 平均耗时：6.524\n",
      "最优的 Logistic Regression 模型：C=1，准确率：0.962\n"
     ]
    }
   ],
   "source": [
    "c_range = [0.01, 1, 100]\n",
    "lr_models = []\n",
    "lr_scores = []\n",
    "lr_durations = []\n",
    "\n",
    "for c in c_range:\n",
    "    print('训练 Logistic Regression（C={}）...'.format(c), end='')\n",
    "    # 建立模型\n",
    "    lr_model = LogisticRegression(C=c)\n",
    "    # 训练模型\n",
    "    start = time.time()\n",
    "    lr_model.fit(X_train, y_train)\n",
    "    # 计时\n",
    "    end = time.time()\n",
    "    duration = end - start\n",
    "    print('耗时 {:.4f} s'.format(duration), end='，')\n",
    "    # 验证模型\n",
    "    score = lr_model.score(X_test, y_test)\n",
    "    print('准确率：{:.3f}'.format(score))\n",
    "    print()\n",
    "    \n",
    "    lr_models.append(lr_model)\n",
    "    lr_durations.append(duration)\n",
    "    lr_scores.append(score)\n",
    "    \n",
    "print()\n",
    "lr_mean_duration = np.mean(lr_durations)\n",
    "print('训练 Logistic Regression 平均耗时：{:.3f}'.format(lr_mean_duration))\n",
    "\n",
    "# 记录最优模型\n",
    "best_idx = np.argmax(lr_scores)\n",
    "best_lr_acc = lr_scores[best_idx]\n",
    "print('最优的 Logistic Regression 模型：C={}，准确率：{:.3f}'.format(lr_models[best_idx].get_params()['C'], best_lr_acc))"
   ]
  },
  {
   "cell_type": "markdown",
   "metadata": {},
   "source": [
    "#### SVM"
   ]
  },
  {
   "cell_type": "code",
   "execution_count": 20,
   "metadata": {},
   "outputs": [
    {
     "name": "stdout",
     "output_type": "stream",
     "text": [
      "训练 SVM（C=100）...耗时：2.1816，准确率：0.9647\n",
      "\n",
      "训练 SVM（C=1000）...耗时：2.1626，准确率：0.9661\n",
      "\n",
      "训练 SVM（C=10000）...耗时：2.1937，准确率：0.9688\n",
      "\n",
      "\n",
      "训练 SVM 平均时间：2.1793\n",
      "最优的 SVM 模型：C=10000，准确率：0.9688\n"
     ]
    }
   ],
   "source": [
    "c_range = [100, 1000, 10000]\n",
    "svm_models = []\n",
    "svm_scores = []\n",
    "svm_durations = []\n",
    "\n",
    "for c in c_range:\n",
    "    print('训练 SVM（C={}）...'.format(c), end='')\n",
    "    # 建立模型\n",
    "    svm_model = SVC(C=c)\n",
    "    # 训练模型\n",
    "    start = time.time()\n",
    "    svm_model.fit(X_train, y_train)\n",
    "    #计时\n",
    "    end = time.time()\n",
    "    duration = end - start\n",
    "    print('耗时：{:.4f}'.format(duration), end='，')\n",
    "    #验证模型\n",
    "    score = svm_model.score(X_test, y_test)\n",
    "    print('准确率：{:.4f}'.format(score))\n",
    "    print()\n",
    "    \n",
    "    svm_models.append(svm_model)\n",
    "    svm_scores.append(score)\n",
    "    svm_durations.append(duration)\n",
    "    \n",
    "print()\n",
    "svm_mean_duration = np.mean(svm_durations)\n",
    "print('训练 SVM 平均时间：{:.4f}'.format(svm_mean_duration))\n",
    "\n",
    "# 记录最优模型\n",
    "best_idx = np.argmax(svm_scores)\n",
    "best_svm_acc = svm_scores[best_idx]\n",
    "print('最优的 SVM 模型：C={}，准确率：{:.4f}'.format(svm_models[best_idx].get_params()['C'], best_svm_acc))"
   ]
  },
  {
   "cell_type": "code",
   "execution_count": null,
   "metadata": {},
   "outputs": [],
   "source": []
  }
 ],
 "metadata": {
  "kernelspec": {
   "display_name": "Python 3",
   "language": "python",
   "name": "python3"
  },
  "language_info": {
   "codemirror_mode": {
    "name": "ipython",
    "version": 3
   },
   "file_extension": ".py",
   "mimetype": "text/x-python",
   "name": "python",
   "nbconvert_exporter": "python",
   "pygments_lexer": "ipython3",
   "version": "3.6.4"
  }
 },
 "nbformat": 4,
 "nbformat_minor": 2
}
