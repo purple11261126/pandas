{
 "cells": [
  {
   "cell_type": "code",
   "execution_count": 1,
   "metadata": {},
   "outputs": [],
   "source": [
    "import numpy as np\n",
    "import pandas as pd\n",
    "from sklearn.model_selection import train_test_split\n",
    "import matplotlib.pyplot as plt\n",
    "import seaborn as sns\n",
    "%matplotlib inline"
   ]
  },
  {
   "cell_type": "markdown",
   "metadata": {},
   "source": [
    "## 水果识别"
   ]
  },
  {
   "cell_type": "markdown",
   "metadata": {},
   "source": [
    "### 1、数据加载"
   ]
  },
  {
   "cell_type": "code",
   "execution_count": 2,
   "metadata": {},
   "outputs": [
    {
     "data": {
      "text/html": [
       "<div>\n",
       "<style scoped>\n",
       "    .dataframe tbody tr th:only-of-type {\n",
       "        vertical-align: middle;\n",
       "    }\n",
       "\n",
       "    .dataframe tbody tr th {\n",
       "        vertical-align: top;\n",
       "    }\n",
       "\n",
       "    .dataframe thead th {\n",
       "        text-align: right;\n",
       "    }\n",
       "</style>\n",
       "<table border=\"1\" class=\"dataframe\">\n",
       "  <thead>\n",
       "    <tr style=\"text-align: right;\">\n",
       "      <th></th>\n",
       "      <th>fruit_label</th>\n",
       "      <th>fruit_name</th>\n",
       "      <th>fruit_subtype</th>\n",
       "      <th>mass</th>\n",
       "      <th>width</th>\n",
       "      <th>height</th>\n",
       "      <th>color_score</th>\n",
       "    </tr>\n",
       "  </thead>\n",
       "  <tbody>\n",
       "    <tr>\n",
       "      <th>0</th>\n",
       "      <td>1</td>\n",
       "      <td>apple</td>\n",
       "      <td>granny_smith</td>\n",
       "      <td>192</td>\n",
       "      <td>8.4</td>\n",
       "      <td>7.3</td>\n",
       "      <td>0.55</td>\n",
       "    </tr>\n",
       "    <tr>\n",
       "      <th>1</th>\n",
       "      <td>1</td>\n",
       "      <td>apple</td>\n",
       "      <td>granny_smith</td>\n",
       "      <td>180</td>\n",
       "      <td>8.0</td>\n",
       "      <td>6.8</td>\n",
       "      <td>0.59</td>\n",
       "    </tr>\n",
       "    <tr>\n",
       "      <th>2</th>\n",
       "      <td>1</td>\n",
       "      <td>apple</td>\n",
       "      <td>granny_smith</td>\n",
       "      <td>176</td>\n",
       "      <td>7.4</td>\n",
       "      <td>7.2</td>\n",
       "      <td>0.60</td>\n",
       "    </tr>\n",
       "    <tr>\n",
       "      <th>3</th>\n",
       "      <td>2</td>\n",
       "      <td>mandarin</td>\n",
       "      <td>mandarin</td>\n",
       "      <td>86</td>\n",
       "      <td>6.2</td>\n",
       "      <td>4.7</td>\n",
       "      <td>0.80</td>\n",
       "    </tr>\n",
       "    <tr>\n",
       "      <th>4</th>\n",
       "      <td>2</td>\n",
       "      <td>mandarin</td>\n",
       "      <td>mandarin</td>\n",
       "      <td>84</td>\n",
       "      <td>6.0</td>\n",
       "      <td>4.6</td>\n",
       "      <td>0.79</td>\n",
       "    </tr>\n",
       "  </tbody>\n",
       "</table>\n",
       "</div>"
      ],
      "text/plain": [
       "   fruit_label fruit_name fruit_subtype  mass  width  height  color_score\n",
       "0            1      apple  granny_smith   192    8.4     7.3         0.55\n",
       "1            1      apple  granny_smith   180    8.0     6.8         0.59\n",
       "2            1      apple  granny_smith   176    7.4     7.2         0.60\n",
       "3            2   mandarin      mandarin    86    6.2     4.7         0.80\n",
       "4            2   mandarin      mandarin    84    6.0     4.6         0.79"
      ]
     },
     "execution_count": 2,
     "metadata": {},
     "output_type": "execute_result"
    }
   ],
   "source": [
    "input_file = './fruit_data_with_colors.txt'\n",
    "data = pd.read_table(input_file)\n",
    "data.head()"
   ]
  },
  {
   "cell_type": "code",
   "execution_count": 3,
   "metadata": {},
   "outputs": [
    {
     "name": "stdout",
     "output_type": "stream",
     "text": [
      "样本个数： 59\n"
     ]
    }
   ],
   "source": [
    "print('样本个数：', len(data))"
   ]
  },
  {
   "cell_type": "code",
   "execution_count": 4,
   "metadata": {},
   "outputs": [
    {
     "data": {
      "text/plain": [
       "{1: 'apple', 2: 'mandarin', 3: 'orange', 4: 'lemon'}"
      ]
     },
     "execution_count": 4,
     "metadata": {},
     "output_type": "execute_result"
    }
   ],
   "source": [
    "# 创建目标标签和名称的字典\n",
    "fruit_name_dict = dict(zip(data['fruit_label'], data['fruit_name']))\n",
    "fruit_name_dict"
   ]
  },
  {
   "cell_type": "code",
   "execution_count": 5,
   "metadata": {},
   "outputs": [
    {
     "name": "stdout",
     "output_type": "stream",
     "text": [
      "数据集样本总数：59，训练集样本数：44，测试集样本数：15\n"
     ]
    }
   ],
   "source": [
    "# 划分数据集\n",
    "X = data[['mass', 'width', 'height', 'color_score']]  # 特征\n",
    "y = data['fruit_label']  # 标准标签\n",
    "\n",
    "X_train, X_test, y_train, y_test = train_test_split(X, y, test_size=1/4, random_state=0)\n",
    "\n",
    "print('数据集样本总数：{}，训练集样本数：{}，测试集样本数：{}'.format(len(data), len(X_train), len(X_test))) "
   ]
  },
  {
   "cell_type": "markdown",
   "metadata": {},
   "source": [
    "### 2、特征归一化"
   ]
  },
  {
   "cell_type": "code",
   "execution_count": 6,
   "metadata": {},
   "outputs": [
    {
     "name": "stdout",
     "output_type": "stream",
     "text": [
      "归一化前，训练集 mass 特征，最大值：356，最小值：76\n",
      "归一化后，训练集 mass 特征，最大值：1.000，最小值：0.000\n",
      "\n",
      "归一化前，训练集 width 特征，最大值：9.2，最小值：5.8\n",
      "归一化后，训练集 width 特征，最大值：1.000，最小值：0.000\n",
      "\n",
      "归一化前，训练集 height 特征，最大值：10.5，最小值：4.0\n",
      "归一化后，训练集 height 特征，最大值：1.000，最小值：0.000\n",
      "\n",
      "归一化前，训练集 color_score 特征，最大值：0.92，最小值：0.55\n",
      "归一化后，训练集 color_score 特征，最大值：1.000，最小值：0.000\n",
      "\n"
     ]
    }
   ],
   "source": [
    "from sklearn.preprocessing import MinMaxScaler  # 最小最大值归一化\n",
    "\n",
    "scaler = MinMaxScaler()\n",
    "X_train_scaler = scaler.fit_transform(X_train)\n",
    "X_test_scaler = scaler.fit_transform(X_test)\n",
    "\n",
    "for i in range(len(X.columns)):\n",
    "    print('归一化前，训练集 {} 特征，最大值：{}，最小值：{}'.format(X_train.columns[i], \n",
    "                                                X_train.iloc[:, i].max(), \n",
    "                                                X_train.iloc[:, i].min()))\n",
    "    print('归一化后，训练集 {} 特征，最大值：{:.3f}，最小值：{:.3f}'.format(X_train.columns[i], \n",
    "                                                X_train_scaler[:, i].max(), \n",
    "                                                X_train_scaler[:, i].min()))\n",
    "    print()"
   ]
  },
  {
   "cell_type": "code",
   "execution_count": null,
   "metadata": {},
   "outputs": [],
   "source": [
    "# 可视化归一化效果\n"
   ]
  },
  {
   "cell_type": "markdown",
   "metadata": {},
   "source": [
    "### 3、归一化对结果的影响"
   ]
  },
  {
   "cell_type": "code",
   "execution_count": 7,
   "metadata": {},
   "outputs": [
    {
     "name": "stdout",
     "output_type": "stream",
     "text": [
      "未进行归一化，准确率：0.5333333333333333\n",
      "归一化后，准确率：0.8\n"
     ]
    }
   ],
   "source": [
    "from sklearn.neighbors import KNeighborsClassifier\n",
    "\n",
    "knn = KNeighborsClassifier(n_neighbors=5)\n",
    "\n",
    "# 在未进行归一化的训练集上计算\n",
    "knn.fit(X=X_train, y=y_train)\n",
    "print('未进行归一化，准确率：{}'.format(knn.score(X_test, y_test)))\n",
    "\n",
    "# 进行归一化后的计算\n",
    "knn.fit(X=X_train_scaler, y=y_train)\n",
    "print('归一化后，准确率：{}'.format(knn.score(X=X_test_scaler, y=y_test)))"
   ]
  },
  {
   "cell_type": "markdown",
   "metadata": {},
   "source": [
    "### 4、标签编码和独热编码"
   ]
  },
  {
   "cell_type": "code",
   "execution_count": 8,
   "metadata": {},
   "outputs": [
    {
     "data": {
      "text/plain": [
       "array([['male', 'low'],\n",
       "       ['female', 'low'],\n",
       "       ['female', 'middle'],\n",
       "       ['male', 'low'],\n",
       "       ['female', 'high'],\n",
       "       ['male', 'low'],\n",
       "       ['female', 'low'],\n",
       "       ['female', 'high'],\n",
       "       ['male', 'low'],\n",
       "       ['male', 'high']], dtype='<U6')"
      ]
     },
     "execution_count": 8,
     "metadata": {},
     "output_type": "execute_result"
    }
   ],
   "source": [
    "# 随机生成有序型特征和类别特征作为例子\n",
    "X_train = np.array([['male', 'low'],\n",
    "                  ['female', 'low'],\n",
    "                  ['female', 'middle'],\n",
    "                  ['male', 'low'],\n",
    "                  ['female', 'high'],\n",
    "                  ['male', 'low'],\n",
    "                  ['female', 'low'],\n",
    "                  ['female', 'high'],\n",
    "                  ['male', 'low'],\n",
    "                  ['male', 'high']])\n",
    "\n",
    "X_test = np.array([['male', 'low'],\n",
    "                  ['male', 'low'],\n",
    "                  ['female', 'middle'],\n",
    "                  ['female', 'low'],\n",
    "                  ['female', 'high']])\n",
    "\n",
    "X_train"
   ]
  },
  {
   "cell_type": "code",
   "execution_count": 9,
   "metadata": {},
   "outputs": [
    {
     "name": "stdout",
     "output_type": "stream",
     "text": [
      "[[0. 1.]\n",
      " [1. 0.]\n",
      " [1. 0.]\n",
      " [0. 1.]\n",
      " [1. 0.]\n",
      " [0. 1.]\n",
      " [1. 0.]\n",
      " [1. 0.]\n",
      " [0. 1.]\n",
      " [0. 1.]]\n",
      "\n",
      "[[1]\n",
      " [1]\n",
      " [2]\n",
      " [1]\n",
      " [0]\n",
      " [1]\n",
      " [1]\n",
      " [0]\n",
      " [1]\n",
      " [0]]\n",
      "\n",
      "[[0. 1. 1.]\n",
      " [1. 0. 1.]\n",
      " [1. 0. 2.]\n",
      " [0. 1. 1.]\n",
      " [1. 0. 0.]\n",
      " [0. 1. 1.]\n",
      " [1. 0. 1.]\n",
      " [1. 0. 0.]\n",
      " [0. 1. 1.]\n",
      " [0. 1. 0.]]\n"
     ]
    }
   ],
   "source": [
    "from sklearn.preprocessing import LabelEncoder, OneHotEncoder\n",
    "\n",
    "# 在训练集上进行编码操作\n",
    "label_enc1 = LabelEncoder()  # 首先将male, female用数字编码\n",
    "one_hot_enc = OneHotEncoder()  # 将数字编码转换为独热编码\n",
    "\n",
    "label_enc2 = LabelEncoder()  # 将low, middle, high用数字编码\n",
    "\n",
    "tr_feat1_tmp = label_enc1.fit_transform(X_train[:, 0]).reshape(-1, 1)  # reshape(-1, 1)保证为一维列向量\n",
    "tr_feat1 = one_hot_enc.fit_transform(tr_feat1_tmp)\n",
    "tr_feat1 = tr_feat1.todense()\n",
    "print(tr_feat1)\n",
    "print()\n",
    "\n",
    "tr_feat2 = label_enc2.fit_transform(X_train[:, 1]).reshape(-1, 1)\n",
    "print(tr_feat2)\n",
    "print()\n",
    "\n",
    "X_train_enc = np.hstack((tr_feat1, tr_feat2))\n",
    "print(X_train_enc)"
   ]
  },
  {
   "cell_type": "code",
   "execution_count": 12,
   "metadata": {},
   "outputs": [
    {
     "name": "stdout",
     "output_type": "stream",
     "text": [
      "[[0. 1. 1.]\n",
      " [0. 1. 1.]\n",
      " [1. 0. 2.]\n",
      " [1. 0. 1.]\n",
      " [1. 0. 0.]]\n"
     ]
    }
   ],
   "source": [
    "# 在测试集上进行编码操作\n",
    "te_feat1_tmp = label_enc1.transform(X_test[:, 0]).reshape(-1, 1)\n",
    "te_feat1 = one_hot_enc.fit_transform(te_feat1_tmp)\n",
    "te_feat1 = te_feat1.todense()\n",
    "\n",
    "te_feat2 = label_enc2.fit_transform(X_test[:, 1]).reshape(-1, 1)\n",
    "\n",
    "X_test_enc = np.hstack((te_feat1, te_feat2))\n",
    "print(X_test_enc)"
   ]
  },
  {
   "cell_type": "code",
   "execution_count": null,
   "metadata": {},
   "outputs": [],
   "source": []
  }
 ],
 "metadata": {
  "kernelspec": {
   "display_name": "Python 3",
   "language": "python",
   "name": "python3"
  },
  "language_info": {
   "codemirror_mode": {
    "name": "ipython",
    "version": 3
   },
   "file_extension": ".py",
   "mimetype": "text/x-python",
   "name": "python",
   "nbconvert_exporter": "python",
   "pygments_lexer": "ipython3",
   "version": "3.6.5"
  }
 },
 "nbformat": 4,
 "nbformat_minor": 2
}
