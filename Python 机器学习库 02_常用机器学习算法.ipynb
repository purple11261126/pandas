{
 "cells": [
  {
   "cell_type": "markdown",
   "metadata": {},
   "source": [
    "# 机器学习常用算法介绍及演示"
   ]
  },
  {
   "cell_type": "code",
   "execution_count": 46,
   "metadata": {},
   "outputs": [],
   "source": [
    "import numpy as np\n",
    "import pandas as pd\n",
    "import matplotlib.pyplot as plt\n",
    "import seaborn as sns\n",
    "from sklearn.model_selection import train_test_split  # 划分数据集\n",
    "%matplotlib inline"
   ]
  },
  {
   "cell_type": "markdown",
   "metadata": {},
   "source": [
    "## 1、KNN"
   ]
  },
  {
   "cell_type": "code",
   "execution_count": 47,
   "metadata": {},
   "outputs": [
    {
     "name": "stdout",
     "output_type": "stream",
     "text": [
      "正确率： 0.5333333333333333\n"
     ]
    }
   ],
   "source": [
    "from sklearn.neighbors import KNeighborsClassifier  # KNN\n",
    "from sklearn.metrics import accuracy_score  # 计算正确率\n",
    "\n",
    "# 加载数据集\n",
    "input_file = './fruit_data_with_colors.txt'\n",
    "data = pd.read_table(input_file)\n",
    "\n",
    "X = data[['mass', 'width', 'height', 'color_score']]  # 维度\n",
    "y = data['fruit_label']  # 标准标签\n",
    "\n",
    "# 划分数据集\n",
    "X_train, X_test, y_train, y_test = train_test_split(X, y, test_size=1/4, random_state=0)\n",
    "\n",
    "# 建立模型\n",
    "knn = KNeighborsClassifier(n_neighbors=5)\n",
    "\n",
    "# 训练模型\n",
    "knn.fit(X=X_train, y=y_train)\n",
    "\n",
    "# 验证模型\n",
    "y_pred = knn.predict(X_test)\n",
    "\n",
    "# 查看正确率\n",
    "acc = accuracy_score(y_pred=y_pred, y_true=y_test)\n",
    "print('正确率：', acc)"
   ]
  },
  {
   "cell_type": "markdown",
   "metadata": {},
   "source": [
    "## 2、线性回归"
   ]
  },
  {
   "cell_type": "code",
   "execution_count": 48,
   "metadata": {},
   "outputs": [
    {
     "data": {
      "text/plain": [
       "Text(0.5,1,'test data')"
      ]
     },
     "execution_count": 48,
     "metadata": {},
     "output_type": "execute_result"
    },
    {
     "data": {
      "image/png": "[encoded data removed]",
      "text/plain": [
       "<matplotlib.figure.Figure at 0x245704fb0f0>"
      ]
     },
     "metadata": {},
     "output_type": "display_data"
    }
   ],
   "source": [
    "# 人工生成数据样本\n",
    "from sklearn.datasets import make_regression  # 生成随机的线性回归数据\n",
    "\n",
    "# 生成样本\n",
    "X_R1, y_R1 = make_regression(n_samples=100,  # 100 个样本\n",
    "                             n_features=1,   # 1 个特征\n",
    "                             n_informative=1, \n",
    "                             bias=150.0, \n",
    "                             noise=30, \n",
    "                             random_state=0)\n",
    "plt.figure()\n",
    "plt.scatter(x=X_R1, y=y_R1, marker='o', s=50)\n",
    "plt.title('test data')"
   ]
  },
  {
   "cell_type": "code",
   "execution_count": 49,
   "metadata": {},
   "outputs": [
    {
     "name": "stdout",
     "output_type": "stream",
     "text": [
      "线性模型系数（w）： [43.08728116]\n",
      "线性模型常数项（b）：147.557\n",
      "训练集中 R-squared 得分：0.676\n",
      "测试集中 R-squared 得分：0.517\n"
     ]
    }
   ],
   "source": [
    "from sklearn.linear_model import LinearRegression  # 线性回归\n",
    "\n",
    "# 划分数据\n",
    "X_train, X_test, y_train, y_test = train_test_split(X_R1, y_R1, random_state = 0)\n",
    "\n",
    "# 建立线性回归模型\n",
    "linreg = LinearRegression()\n",
    "\n",
    "# 训练模型\n",
    "linreg.fit(X=X_R1, y=y_R1)\n",
    "\n",
    "# 输出结果\n",
    "print('线性模型系数（w）：', linreg.coef_)\n",
    "print('线性模型常数项（b）：{:.3f}'.format(linreg.intercept_))\n",
    "print('训练集中 R-squared 得分：{:.3f}'.format(linreg.score(X_train, y_train)))\n",
    "print('测试集中 R-squared 得分：{:.3f}'.format(linreg.score(X_test, y_test)))"
   ]
  },
  {
   "cell_type": "code",
   "execution_count": 50,
   "metadata": {},
   "outputs": [
    {
     "data": {
      "text/plain": [
       "Text(0,0.5,'y')"
      ]
     },
     "execution_count": 50,
     "metadata": {},
     "output_type": "execute_result"
    },
    {
     "data": {
      "image/png": "[encoded data removed]",
      "text/plain": [
       "<matplotlib.figure.Figure at 0x245715a4390>"
      ]
     },
     "metadata": {},
     "output_type": "display_data"
    }
   ],
   "source": [
    "# 可视化结果\n",
    "plt.figure(figsize=(5, 4))\n",
    "plt.scatter(X_R1, y_R1, marker='o', s=50, alpha=0.8)  # 样本的散点图\n",
    "plt.plot(X_R1, linreg.coef_ * X_R1 + linreg.intercept_, 'r-')  # 拟合的直线图。linreg.coef_ * X_R1 + linreg.intercept_ 就是线性回归的公式。\n",
    "plt.title('Linear Regression')\n",
    "plt.xlabel('X_R1')\n",
    "plt.ylabel('y')"
   ]
  },
  {
   "cell_type": "markdown",
   "metadata": {},
   "source": [
    "## 3、逻辑回归"
   ]
  },
  {
   "cell_type": "code",
   "execution_count": 57,
   "metadata": {},
   "outputs": [],
   "source": [
    "from sklearn.linear_model import LogisticRegression  # 逻辑回归\n",
    "\n",
    "# 加载数据集\n",
    "data = pd.read_table('./fruit_data_with_colors.txt')\n",
    "\n",
    "X = data[['width', 'height']]  # 特征列\n",
    "y = data['fruit_label'].copy()  # 标准标签，注意：这里用到 copy()，因为下一步要更改它。\n",
    "\n",
    "# 将不是 apple 的标签设为 0，二分类为题\n",
    "y[y != 1] = 0\n",
    "\n",
    "# 分割数据集\n",
    "X_train, X_test, y_train, y_test = train_test_split(X, y, test_size=1/4, random_state=0)\n",
    "\n",
    "# 不同 C 值的表现\n",
    "c_value = [0.1, 1, 100]\n",
    "\n",
    "for c in c_value:\n",
    "    #"
   ]
  }
 ],
 "metadata": {
  "kernelspec": {
   "display_name": "Python 3",
   "language": "python",
   "name": "python3"
  },
  "language_info": {
   "codemirror_mode": {
    "name": "ipython",
    "version": 3
   },
   "file_extension": ".py",
   "mimetype": "text/x-python",
   "name": "python",
   "nbconvert_exporter": "python",
   "pygments_lexer": "ipython3",
   "version": "3.6.4"
  }
 },
 "nbformat": 4,
 "nbformat_minor": 2
}
